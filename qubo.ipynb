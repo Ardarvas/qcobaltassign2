# Instructions

The places where you have enter code, to answer the questions, are marked with `# YOUR CODE HERE`. Once you have written your code you should remove any `raise NotImplementedError()` statements.

## Question 1 (3 points)

Complete the function `get_Q` that returns a $Q$ matrix for the following objective function:

$$f(x_1, x_2, x_3, x_4) = 3x_1 + 2x_2 - x_3 - 4 x_4 + 2x_1x_3 - 5x_2x_4
.$$

The function `get_Q` has

- Input: None
- Returns:
    - A `numpy.array` representing the $Q$ matrix

import numpy as np


def get_Q():
    Q = np.array([
       [2, 0, 2, 0],
        [0, -5, 0, 0],
        [2, 0, 0, -5],
        [0, 0, 0, 0]
    ])
    # Do not modify anything below this line
    return Q
# You can use this cell to call and check the output of the function

print(get_Q())
# hidden tests will be used for grading.
## Question 2 (5 points)

Complete function `maximize` that takes as input a `Q` matrix and returns the vector that maximizes the objective function.

The function `maximize` has

- Input:
    - A `numpy.array` representing $Q$ matrix
- Returns:
    - A `numpy.array` representing the vector that maximizes the objective function

Hint: You can use the function `qubo_solver` given below. `qubo_solver` takes as input a `Q` matrix and returns the vector of variables that **minimizes** the corresponding function. 
import itertools
import numpy as np


def qubo_solver(Q_matrix):
    possible_values = {}
    # A list of all the possible permutations for x vector
    vec_permutations = itertools.product([0, 1], repeat=Q_matrix.shape[0])

    for permutation in vec_permutations:
        x = np.array(
            [[var] for var in permutation]
        )  # Converts the permutation into a column vector
        value = (x.T).dot(Q_matrix).dot(x)
        possible_values[
            value[0][0]
        ] = x  # Adds the value and its vector to the dictionary

    min_value = min(possible_values.keys())  # Lowest value of the objective function
    opt_vector = tuple(
        possible_values[min_value].T[0]
    )  # Optimum vector x that produces the lowest value

    return opt_vector
def maximize(Q):
      # Use the qubo_solver function to find the vector that minimizes the Q matrix
    min_vector = qubo_solver(Q)

    # To maximize the objective function, negate the elements of the minimum vector
    max_vector = np.array([1 - var for var in min_vector])

    return max_vector
# You can use this cell to call and check the output of the function

Q = np.array([[1, 1], [0, -1]])

print(maximize(Q))
# hidden tests will be used for grading.
# hidden tests will be used for grading.
# hidden tests will be used for grading.
## Question 3 (5 points)

Next questions are about the Knapsack Problem.

Given $n$ items, each with an associated weight $w_i$ and cost $c_i$, the goal of the Knapsack problem is to pack as many items to maximize the value of the packed knapsack, while not exceeding the knapsack capacity $W$.

Let $x_i$ be a binary variable that is equal to 1 if $i$'th item is selected and 0 otherwise. 

Complete the function `objective` so that it returns a string corresponding to the objective function

$$
\max~~f(x_0,x_1,\dots,x_{n-1})
$$
for the Knapsack Problem.

The function `objective` has

- Inputs:
    - `n`: an `int` representing the number of items,
    - `costs`: a list of $n$ elements corresponding to costs of the items,
    - `weights`: a list of $n$ elements corresponding to the weights of the items,
    - `W`: capacity of Knapsack
            
- Returns:
    - A string representation of the objective function

**String representation:** Ex: For $f(x_0,x_1)= 2x_0-3x_0x_1+x_1$, string representation is `2x_0-3x_0x_1+1x_1`. The order of the terms is not important i.e. `-3x_0x_1+1x_1+2x_0` is valid as well.

def objective(n, weights, costs, W):
    obj_terms = []
    for i in range(n):
        obj_terms.append(f"{costs[i]}x_{i}")
    
    objective_function = "+".join(obj_terms)
    return objective_function

    raise NotImplementedError()
    # Do not modify anything below this line
    return s
# You can use this cell to call and check the output of the function
n = 5
W = 10
weights = [1, 4, 8, 2, 3]
costs = [2, 7, 3, 4, 6]
print(objective(n, weights, costs, W))
# hidden tests will be used for grading.
# hidden tests will be used for grading.
# If this cell results in an error, your implementation is incorrect
## Question 4 (5 points)

Complete the function `constraint` so that it returns a string corresponding to the constraint for the Knapsack Problem.

The function `constraint` has

- Inputs:
    - `n`: an `int`, the number of items,
    - `costs`: a list of $n$ elements corresponding to costs of the items,
    - `weights`- a list of $n$ elements corresponding to the weights of the items,
    - `W`-capacity of Knapsack
            
- Returns:
    - A string representation of the constraint

**String representation:** Ex: For constraint $1x_0+2x_2\leq9$, string representation is `1x_0+2x_2<=9`. The order of the terms is not important i.e. `2x_2+1x_0<=9` is valid as well.

def constraint(n, weights, costs, W):
    terms = []
    for i in range(n):
        terms.append(f"{weights[i]}x_{i}")
    s = "+".join(terms) + f"<={W}"
    # Do not modify anything below this line
    return s
# You can use this cell to call and check the output of the function
n = 5
W = 10
weights = [1, 4, 8, 2, 3]
costs = [2, 7, 3, 4, 6]
print(constraint(n, weights, costs, W))
# hidden tests will be used for grading.
# hidden tests will be used for grading.
